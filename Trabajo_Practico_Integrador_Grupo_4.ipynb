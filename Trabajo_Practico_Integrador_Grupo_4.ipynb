{
  "nbformat": 4,
  "nbformat_minor": 0,
  "metadata": {
    "colab": {
      "provenance": [],
      "include_colab_link": true
    },
    "kernelspec": {
      "name": "python3",
      "display_name": "Python 3"
    },
    "language_info": {
      "name": "python"
    }
  },
  "cells": [
    {
      "cell_type": "markdown",
      "metadata": {
        "id": "view-in-github",
        "colab_type": "text"
      },
      "source": [
        "<a href=\"https://colab.research.google.com/github/ImoPupato/ImoPupato/blob/main/Trabajo_Practico_Integrador_Grupo_4.ipynb\" target=\"_parent\"><img src=\"https://colab.research.google.com/assets/colab-badge.svg\" alt=\"Open In Colab\"/></a>"
      ]
    },
    {
      "cell_type": "markdown",
      "source": [
        "<center> <h1>Trabajo Práctico Pre-Final</h1> </center>\n",
        "\n",
        "<center> <h2>Análisis Quimioinformático de Datos</h2> </center>"
      ],
      "metadata": {
        "id": "Q0WfPtkKMgmk"
      }
    },
    {
      "cell_type": "markdown",
      "source": [
        "En la celda que se encuentra a continuación vamos a importar e instalar todas las librerías que se van a usar.\n",
        "\n",
        "Primero vamos a instalar todo el software RDKit y otras librerias que vamos a usar con el comando `!pip`. Luego le vamos a pedir que \"tenga a mano\" sólo las librerías que vamos a usar con el comando `import`.\n",
        "\n",
        "❗ Para ejecutar los comandos tenemos que \"correr la celda\". Para hacerlo,  podés apretar el boton \"Run\" o usar el comando \"Ctrl + Enter\"\n",
        "\n",
        "👇"
      ],
      "metadata": {
        "id": "xjVZLliwMZgJ"
      }
    },
    {
      "cell_type": "code",
      "execution_count": null,
      "metadata": {
        "id": "C9EgFKpY_0nX",
        "outputId": "f2c7920d-e0f5-4bc3-bda1-58f87655aaa3",
        "colab": {
          "base_uri": "https://localhost:8080/"
        }
      },
      "outputs": [
        {
          "output_type": "stream",
          "name": "stdout",
          "text": [
            "Collecting git+https://github.com/ikmckenz/adme-pred-py.git\n",
            "  Cloning https://github.com/ikmckenz/adme-pred-py.git to /tmp/pip-req-build-756qviy4\n",
            "  Running command git clone --filter=blob:none --quiet https://github.com/ikmckenz/adme-pred-py.git /tmp/pip-req-build-756qviy4\n",
            "  Resolved https://github.com/ikmckenz/adme-pred-py.git to commit 8091a02fe5998b8ba237760ade7ff3400abbbcdd\n",
            "  Preparing metadata (setup.py) ... \u001b[?25l\u001b[?25hdone\n",
            "Requirement already satisfied: pandas in /usr/local/lib/python3.10/dist-packages (1.5.3)\n",
            "Collecting rdkit\n",
            "  Downloading rdkit-2023.3.2-cp310-cp310-manylinux_2_17_x86_64.manylinux2014_x86_64.whl (29.7 MB)\n",
            "\u001b[2K     \u001b[90m━━━━━━━━━━━━━━━━━━━━━━━━━━━━━━━━━━━━━━━━\u001b[0m \u001b[32m29.7/29.7 MB\u001b[0m \u001b[31m47.5 MB/s\u001b[0m eta \u001b[36m0:00:00\u001b[0m\n",
            "\u001b[?25hRequirement already satisfied: tqdm in /usr/local/lib/python3.10/dist-packages (4.65.0)\n",
            "Collecting useful_rdkit_utils\n",
            "  Downloading useful_rdkit_utils-0.2.7.tar.gz (32 kB)\n",
            "  Preparing metadata (setup.py) ... \u001b[?25l\u001b[?25hdone\n",
            "Requirement already satisfied: seaborn in /usr/local/lib/python3.10/dist-packages (0.12.2)\n",
            "Collecting scikit-posthocs\n",
            "  Downloading scikit_posthocs-0.7.0-py3-none-any.whl (38 kB)\n",
            "Collecting chembl_downloader\n",
            "  Downloading chembl_downloader-0.4.2-py3-none-any.whl (15 kB)\n",
            "Collecting chembl_webresource_client\n",
            "  Downloading chembl_webresource_client-0.10.8-py3-none-any.whl (55 kB)\n",
            "\u001b[2K     \u001b[90m━━━━━━━━━━━━━━━━━━━━━━━━━━━━━━━━━━━━━━━━\u001b[0m \u001b[32m55.2/55.2 kB\u001b[0m \u001b[31m6.7 MB/s\u001b[0m eta \u001b[36m0:00:00\u001b[0m\n",
            "\u001b[?25hCollecting xlsxwriter\n",
            "  Downloading XlsxWriter-3.1.2-py3-none-any.whl (153 kB)\n",
            "\u001b[2K     \u001b[90m━━━━━━━━━━━━━━━━━━━━━━━━━━━━━━━━━━━━━━\u001b[0m \u001b[32m153.0/153.0 kB\u001b[0m \u001b[31m17.0 MB/s\u001b[0m eta \u001b[36m0:00:00\u001b[0m\n",
            "\u001b[?25hCollecting pubchempy\n",
            "  Downloading PubChemPy-1.0.4.tar.gz (29 kB)\n",
            "  Preparing metadata (setup.py) ... \u001b[?25l\u001b[?25hdone\n",
            "Requirement already satisfied: python-dateutil>=2.8.1 in /usr/local/lib/python3.10/dist-packages (from pandas) (2.8.2)\n",
            "Requirement already satisfied: pytz>=2020.1 in /usr/local/lib/python3.10/dist-packages (from pandas) (2022.7.1)\n",
            "Requirement already satisfied: numpy>=1.21.0 in /usr/local/lib/python3.10/dist-packages (from pandas) (1.22.4)\n",
            "Requirement already satisfied: Pillow in /usr/local/lib/python3.10/dist-packages (from rdkit) (8.4.0)\n",
            "Collecting py3DMol (from useful_rdkit_utils)\n",
            "  Downloading py3Dmol-2.0.3-py2.py3-none-any.whl (12 kB)\n",
            "Requirement already satisfied: pytest in /usr/local/lib/python3.10/dist-packages (from useful_rdkit_utils) (7.2.2)\n",
            "Collecting jupyter (from useful_rdkit_utils)\n",
            "  Downloading jupyter-1.0.0-py2.py3-none-any.whl (2.7 kB)\n",
            "Collecting pystow (from useful_rdkit_utils)\n",
            "  Downloading pystow-0.5.0-py3-none-any.whl (37 kB)\n",
            "Requirement already satisfied: click in /usr/local/lib/python3.10/dist-packages (from useful_rdkit_utils) (8.1.4)\n",
            "Requirement already satisfied: matplotlib!=3.6.1,>=3.1 in /usr/local/lib/python3.10/dist-packages (from seaborn) (3.7.1)\n",
            "Requirement already satisfied: scipy in /usr/local/lib/python3.10/dist-packages (from scikit-posthocs) (1.10.1)\n",
            "Requirement already satisfied: statsmodels in /usr/local/lib/python3.10/dist-packages (from scikit-posthocs) (0.13.5)\n",
            "Collecting more-click (from chembl_downloader)\n",
            "  Downloading more_click-0.1.2-py3-none-any.whl (6.7 kB)\n",
            "Requirement already satisfied: urllib3 in /usr/local/lib/python3.10/dist-packages (from chembl_webresource_client) (1.26.16)\n",
            "Requirement already satisfied: requests>=2.18.4 in /usr/local/lib/python3.10/dist-packages (from chembl_webresource_client) (2.27.1)\n",
            "Collecting requests-cache~=0.7.0 (from chembl_webresource_client)\n",
            "  Downloading requests_cache-0.7.5-py3-none-any.whl (39 kB)\n",
            "Requirement already satisfied: easydict in /usr/local/lib/python3.10/dist-packages (from chembl_webresource_client) (1.10)\n",
            "Requirement already satisfied: contourpy>=1.0.1 in /usr/local/lib/python3.10/dist-packages (from matplotlib!=3.6.1,>=3.1->seaborn) (1.1.0)\n",
            "Requirement already satisfied: cycler>=0.10 in /usr/local/lib/python3.10/dist-packages (from matplotlib!=3.6.1,>=3.1->seaborn) (0.11.0)\n",
            "Requirement already satisfied: fonttools>=4.22.0 in /usr/local/lib/python3.10/dist-packages (from matplotlib!=3.6.1,>=3.1->seaborn) (4.40.0)\n",
            "Requirement already satisfied: kiwisolver>=1.0.1 in /usr/local/lib/python3.10/dist-packages (from matplotlib!=3.6.1,>=3.1->seaborn) (1.4.4)\n",
            "Requirement already satisfied: packaging>=20.0 in /usr/local/lib/python3.10/dist-packages (from matplotlib!=3.6.1,>=3.1->seaborn) (23.1)\n",
            "Requirement already satisfied: pyparsing>=2.3.1 in /usr/local/lib/python3.10/dist-packages (from matplotlib!=3.6.1,>=3.1->seaborn) (3.1.0)\n",
            "Requirement already satisfied: six>=1.5 in /usr/local/lib/python3.10/dist-packages (from python-dateutil>=2.8.1->pandas) (1.16.0)\n",
            "Requirement already satisfied: certifi>=2017.4.17 in /usr/local/lib/python3.10/dist-packages (from requests>=2.18.4->chembl_webresource_client) (2023.5.7)\n",
            "Requirement already satisfied: charset-normalizer~=2.0.0 in /usr/local/lib/python3.10/dist-packages (from requests>=2.18.4->chembl_webresource_client) (2.0.12)\n",
            "Requirement already satisfied: idna<4,>=2.5 in /usr/local/lib/python3.10/dist-packages (from requests>=2.18.4->chembl_webresource_client) (3.4)\n",
            "Collecting attrs<22.0,>=21.2 (from requests-cache~=0.7.0->chembl_webresource_client)\n",
            "  Downloading attrs-21.4.0-py2.py3-none-any.whl (60 kB)\n",
            "\u001b[2K     \u001b[90m━━━━━━━━━━━━━━━━━━━━━━━━━━━━━━━━━━━━━━━━\u001b[0m \u001b[32m60.6/60.6 kB\u001b[0m \u001b[31m6.4 MB/s\u001b[0m eta \u001b[36m0:00:00\u001b[0m\n",
            "\u001b[?25hRequirement already satisfied: itsdangerous>=2.0.1 in /usr/local/lib/python3.10/dist-packages (from requests-cache~=0.7.0->chembl_webresource_client) (2.1.2)\n",
            "Requirement already satisfied: pyyaml>=5.4 in /usr/local/lib/python3.10/dist-packages (from requests-cache~=0.7.0->chembl_webresource_client) (6.0)\n",
            "Collecting url-normalize<2.0,>=1.4 (from requests-cache~=0.7.0->chembl_webresource_client)\n",
            "  Downloading url_normalize-1.4.3-py2.py3-none-any.whl (6.8 kB)\n",
            "Requirement already satisfied: notebook in /usr/local/lib/python3.10/dist-packages (from jupyter->useful_rdkit_utils) (6.4.8)\n",
            "Collecting qtconsole (from jupyter->useful_rdkit_utils)\n",
            "  Downloading qtconsole-5.4.3-py3-none-any.whl (121 kB)\n",
            "\u001b[2K     \u001b[90m━━━━━━━━━━━━━━━━━━━━━━━━━━━━━━━━━━━━━━\u001b[0m \u001b[32m121.9/121.9 kB\u001b[0m \u001b[31m13.7 MB/s\u001b[0m eta \u001b[36m0:00:00\u001b[0m\n",
            "\u001b[?25hRequirement already satisfied: jupyter-console in /usr/local/lib/python3.10/dist-packages (from jupyter->useful_rdkit_utils) (6.1.0)\n",
            "Requirement already satisfied: nbconvert in /usr/local/lib/python3.10/dist-packages (from jupyter->useful_rdkit_utils) (6.5.4)\n",
            "Requirement already satisfied: ipykernel in /usr/local/lib/python3.10/dist-packages (from jupyter->useful_rdkit_utils) (5.5.6)\n",
            "Requirement already satisfied: ipywidgets in /usr/local/lib/python3.10/dist-packages (from jupyter->useful_rdkit_utils) (7.7.1)\n",
            "Requirement already satisfied: iniconfig in /usr/local/lib/python3.10/dist-packages (from pytest->useful_rdkit_utils) (2.0.0)\n",
            "Requirement already satisfied: pluggy<2.0,>=0.12 in /usr/local/lib/python3.10/dist-packages (from pytest->useful_rdkit_utils) (1.2.0)\n",
            "Requirement already satisfied: exceptiongroup>=1.0.0rc8 in /usr/local/lib/python3.10/dist-packages (from pytest->useful_rdkit_utils) (1.1.2)\n",
            "Requirement already satisfied: tomli>=1.0.0 in /usr/local/lib/python3.10/dist-packages (from pytest->useful_rdkit_utils) (2.0.1)\n",
            "Requirement already satisfied: patsy>=0.5.2 in /usr/local/lib/python3.10/dist-packages (from statsmodels->scikit-posthocs) (0.5.3)\n",
            "Requirement already satisfied: ipython-genutils in /usr/local/lib/python3.10/dist-packages (from ipykernel->jupyter->useful_rdkit_utils) (0.2.0)\n",
            "Requirement already satisfied: ipython>=5.0.0 in /usr/local/lib/python3.10/dist-packages (from ipykernel->jupyter->useful_rdkit_utils) (7.34.0)\n",
            "Requirement already satisfied: traitlets>=4.1.0 in /usr/local/lib/python3.10/dist-packages (from ipykernel->jupyter->useful_rdkit_utils) (5.7.1)\n",
            "Requirement already satisfied: jupyter-client in /usr/local/lib/python3.10/dist-packages (from ipykernel->jupyter->useful_rdkit_utils) (6.1.12)\n",
            "Requirement already satisfied: tornado>=4.2 in /usr/local/lib/python3.10/dist-packages (from ipykernel->jupyter->useful_rdkit_utils) (6.3.1)\n",
            "Requirement already satisfied: widgetsnbextension~=3.6.0 in /usr/local/lib/python3.10/dist-packages (from ipywidgets->jupyter->useful_rdkit_utils) (3.6.4)\n",
            "Requirement already satisfied: jupyterlab-widgets>=1.0.0 in /usr/local/lib/python3.10/dist-packages (from ipywidgets->jupyter->useful_rdkit_utils) (3.0.8)\n",
            "Requirement already satisfied: prompt-toolkit!=3.0.0,!=3.0.1,<3.1.0,>=2.0.0 in /usr/local/lib/python3.10/dist-packages (from jupyter-console->jupyter->useful_rdkit_utils) (3.0.39)\n",
            "Requirement already satisfied: pygments in /usr/local/lib/python3.10/dist-packages (from jupyter-console->jupyter->useful_rdkit_utils) (2.14.0)\n",
            "Requirement already satisfied: lxml in /usr/local/lib/python3.10/dist-packages (from nbconvert->jupyter->useful_rdkit_utils) (4.9.3)\n",
            "Requirement already satisfied: beautifulsoup4 in /usr/local/lib/python3.10/dist-packages (from nbconvert->jupyter->useful_rdkit_utils) (4.11.2)\n",
            "Requirement already satisfied: bleach in /usr/local/lib/python3.10/dist-packages (from nbconvert->jupyter->useful_rdkit_utils) (6.0.0)\n",
            "Requirement already satisfied: defusedxml in /usr/local/lib/python3.10/dist-packages (from nbconvert->jupyter->useful_rdkit_utils) (0.7.1)\n",
            "Requirement already satisfied: entrypoints>=0.2.2 in /usr/local/lib/python3.10/dist-packages (from nbconvert->jupyter->useful_rdkit_utils) (0.4)\n",
            "Requirement already satisfied: jinja2>=3.0 in /usr/local/lib/python3.10/dist-packages (from nbconvert->jupyter->useful_rdkit_utils) (3.1.2)\n",
            "Requirement already satisfied: jupyter-core>=4.7 in /usr/local/lib/python3.10/dist-packages (from nbconvert->jupyter->useful_rdkit_utils) (5.3.1)\n",
            "Requirement already satisfied: jupyterlab-pygments in /usr/local/lib/python3.10/dist-packages (from nbconvert->jupyter->useful_rdkit_utils) (0.2.2)\n",
            "Requirement already satisfied: MarkupSafe>=2.0 in /usr/local/lib/python3.10/dist-packages (from nbconvert->jupyter->useful_rdkit_utils) (2.1.3)\n",
            "Requirement already satisfied: mistune<2,>=0.8.1 in /usr/local/lib/python3.10/dist-packages (from nbconvert->jupyter->useful_rdkit_utils) (0.8.4)\n",
            "Requirement already satisfied: nbclient>=0.5.0 in /usr/local/lib/python3.10/dist-packages (from nbconvert->jupyter->useful_rdkit_utils) (0.8.0)\n",
            "Requirement already satisfied: nbformat>=5.1 in /usr/local/lib/python3.10/dist-packages (from nbconvert->jupyter->useful_rdkit_utils) (5.9.0)\n",
            "Requirement already satisfied: pandocfilters>=1.4.1 in /usr/local/lib/python3.10/dist-packages (from nbconvert->jupyter->useful_rdkit_utils) (1.5.0)\n",
            "Requirement already satisfied: tinycss2 in /usr/local/lib/python3.10/dist-packages (from nbconvert->jupyter->useful_rdkit_utils) (1.2.1)\n",
            "Requirement already satisfied: pyzmq>=17 in /usr/local/lib/python3.10/dist-packages (from notebook->jupyter->useful_rdkit_utils) (23.2.1)\n",
            "Requirement already satisfied: argon2-cffi in /usr/local/lib/python3.10/dist-packages (from notebook->jupyter->useful_rdkit_utils) (21.3.0)\n",
            "Requirement already satisfied: nest-asyncio>=1.5 in /usr/local/lib/python3.10/dist-packages (from notebook->jupyter->useful_rdkit_utils) (1.5.6)\n",
            "Requirement already satisfied: Send2Trash>=1.8.0 in /usr/local/lib/python3.10/dist-packages (from notebook->jupyter->useful_rdkit_utils) (1.8.2)\n",
            "Requirement already satisfied: terminado>=0.8.3 in /usr/local/lib/python3.10/dist-packages (from notebook->jupyter->useful_rdkit_utils) (0.17.1)\n",
            "Requirement already satisfied: prometheus-client in /usr/local/lib/python3.10/dist-packages (from notebook->jupyter->useful_rdkit_utils) (0.17.0)\n",
            "Collecting qtpy>=2.0.1 (from qtconsole->jupyter->useful_rdkit_utils)\n",
            "  Downloading QtPy-2.3.1-py3-none-any.whl (84 kB)\n",
            "\u001b[2K     \u001b[90m━━━━━━━━━━━━━━━━━━━━━━━━━━━━━━━━━━━━━━━━\u001b[0m \u001b[32m84.9/84.9 kB\u001b[0m \u001b[31m8.1 MB/s\u001b[0m eta \u001b[36m0:00:00\u001b[0m\n",
            "\u001b[?25hRequirement already satisfied: setuptools>=18.5 in /usr/local/lib/python3.10/dist-packages (from ipython>=5.0.0->ipykernel->jupyter->useful_rdkit_utils) (67.7.2)\n",
            "Collecting jedi>=0.16 (from ipython>=5.0.0->ipykernel->jupyter->useful_rdkit_utils)\n",
            "  Downloading jedi-0.18.2-py2.py3-none-any.whl (1.6 MB)\n",
            "\u001b[2K     \u001b[90m━━━━━━━━━━━━━━━━━━━━━━━━━━━━━━━━━━━━━━━━\u001b[0m \u001b[32m1.6/1.6 MB\u001b[0m \u001b[31m62.3 MB/s\u001b[0m eta \u001b[36m0:00:00\u001b[0m\n",
            "\u001b[?25hRequirement already satisfied: decorator in /usr/local/lib/python3.10/dist-packages (from ipython>=5.0.0->ipykernel->jupyter->useful_rdkit_utils) (4.4.2)\n",
            "Requirement already satisfied: pickleshare in /usr/local/lib/python3.10/dist-packages (from ipython>=5.0.0->ipykernel->jupyter->useful_rdkit_utils) (0.7.5)\n",
            "Requirement already satisfied: backcall in /usr/local/lib/python3.10/dist-packages (from ipython>=5.0.0->ipykernel->jupyter->useful_rdkit_utils) (0.2.0)\n",
            "Requirement already satisfied: matplotlib-inline in /usr/local/lib/python3.10/dist-packages (from ipython>=5.0.0->ipykernel->jupyter->useful_rdkit_utils) (0.1.6)\n",
            "Requirement already satisfied: pexpect>4.3 in /usr/local/lib/python3.10/dist-packages (from ipython>=5.0.0->ipykernel->jupyter->useful_rdkit_utils) (4.8.0)\n",
            "Requirement already satisfied: platformdirs>=2.5 in /usr/local/lib/python3.10/dist-packages (from jupyter-core>=4.7->nbconvert->jupyter->useful_rdkit_utils) (3.8.1)\n",
            "Requirement already satisfied: fastjsonschema in /usr/local/lib/python3.10/dist-packages (from nbformat>=5.1->nbconvert->jupyter->useful_rdkit_utils) (2.17.1)\n",
            "Requirement already satisfied: jsonschema>=2.6 in /usr/local/lib/python3.10/dist-packages (from nbformat>=5.1->nbconvert->jupyter->useful_rdkit_utils) (4.3.3)\n",
            "Requirement already satisfied: wcwidth in /usr/local/lib/python3.10/dist-packages (from prompt-toolkit!=3.0.0,!=3.0.1,<3.1.0,>=2.0.0->jupyter-console->jupyter->useful_rdkit_utils) (0.2.6)\n",
            "Requirement already satisfied: ptyprocess in /usr/local/lib/python3.10/dist-packages (from terminado>=0.8.3->notebook->jupyter->useful_rdkit_utils) (0.7.0)\n",
            "Requirement already satisfied: argon2-cffi-bindings in /usr/local/lib/python3.10/dist-packages (from argon2-cffi->notebook->jupyter->useful_rdkit_utils) (21.2.0)\n",
            "Requirement already satisfied: soupsieve>1.2 in /usr/local/lib/python3.10/dist-packages (from beautifulsoup4->nbconvert->jupyter->useful_rdkit_utils) (2.4.1)\n",
            "Requirement already satisfied: webencodings in /usr/local/lib/python3.10/dist-packages (from bleach->nbconvert->jupyter->useful_rdkit_utils) (0.5.1)\n",
            "Requirement already satisfied: parso<0.9.0,>=0.8.0 in /usr/local/lib/python3.10/dist-packages (from jedi>=0.16->ipython>=5.0.0->ipykernel->jupyter->useful_rdkit_utils) (0.8.3)\n",
            "Requirement already satisfied: pyrsistent!=0.17.0,!=0.17.1,!=0.17.2,>=0.14.0 in /usr/local/lib/python3.10/dist-packages (from jsonschema>=2.6->nbformat>=5.1->nbconvert->jupyter->useful_rdkit_utils) (0.19.3)\n",
            "Requirement already satisfied: cffi>=1.0.1 in /usr/local/lib/python3.10/dist-packages (from argon2-cffi-bindings->argon2-cffi->notebook->jupyter->useful_rdkit_utils) (1.15.1)\n",
            "Requirement already satisfied: pycparser in /usr/local/lib/python3.10/dist-packages (from cffi>=1.0.1->argon2-cffi-bindings->argon2-cffi->notebook->jupyter->useful_rdkit_utils) (2.21)\n",
            "Building wheels for collected packages: useful_rdkit_utils, adme-pred, pubchempy\n",
            "  Building wheel for useful_rdkit_utils (setup.py) ... \u001b[?25l\u001b[?25hdone\n",
            "  Created wheel for useful_rdkit_utils: filename=useful_rdkit_utils-0.2.7-py3-none-any.whl size=18384 sha256=e6ef9dd5e23c36c42fceb836f4ff367c8410a043f43ce79584ac58d00300a041\n",
            "  Stored in directory: /root/.cache/pip/wheels/66/d2/4c/94e82b5623723fcc89b502c6d69c0d7e2ae6075fa2928e26e9\n",
            "  Building wheel for adme-pred (setup.py) ... \u001b[?25l\u001b[?25hdone\n",
            "  Created wheel for adme-pred: filename=adme_pred-0.0.2-py3-none-any.whl size=18560 sha256=ae9a2a2326d994974522a61621f1a840a56152a3b339b70ea643b2fba13e22ed\n",
            "  Stored in directory: /tmp/pip-ephem-wheel-cache-4bkihp0y/wheels/0b/cd/8f/5b6314f4393bde6a8e1378ff709adf4c3a59e4ee2f4ef88256\n",
            "  Building wheel for pubchempy (setup.py) ... \u001b[?25l\u001b[?25hdone\n",
            "  Created wheel for pubchempy: filename=PubChemPy-1.0.4-py3-none-any.whl size=13820 sha256=86d700d676a210d172d38a464357e8088bdcd291749d2e572d65ad56cc2d276a\n",
            "  Stored in directory: /root/.cache/pip/wheels/90/7c/45/18a0671e3c3316966ef7ed9ad2b3f3300a7e41d3421a44e799\n",
            "Successfully built useful_rdkit_utils adme-pred pubchempy\n",
            "Installing collected packages: py3DMol, pubchempy, adme-pred, xlsxwriter, url-normalize, rdkit, qtpy, more-click, jedi, attrs, requests-cache, pystow, chembl_webresource_client, chembl_downloader, scikit-posthocs, qtconsole, jupyter, useful_rdkit_utils\n",
            "  Attempting uninstall: attrs\n",
            "    Found existing installation: attrs 23.1.0\n",
            "    Uninstalling attrs-23.1.0:\n",
            "      Successfully uninstalled attrs-23.1.0\n",
            "Successfully installed adme-pred-0.0.2 attrs-21.4.0 chembl_downloader-0.4.2 chembl_webresource_client-0.10.8 jedi-0.18.2 jupyter-1.0.0 more-click-0.1.2 pubchempy-1.0.4 py3DMol-2.0.3 pystow-0.5.0 qtconsole-5.4.3 qtpy-2.3.1 rdkit-2023.3.2 requests-cache-0.7.5 scikit-posthocs-0.7.0 url-normalize-1.4.3 useful_rdkit_utils-0.2.7 xlsxwriter-3.1.2\n"
          ]
        }
      ],
      "source": [
        "# Instalar las librerias\n",
        "!pip install pandas rdkit tqdm useful_rdkit_utils seaborn scikit-posthocs chembl_downloader chembl_webresource_client xlsxwriter git+https://github.com/ikmckenz/adme-pred-py.git pubchempy"
      ]
    },
    {
      "cell_type": "markdown",
      "source": [
        "Ahora vamos a importar las librerias que vamos a usar"
      ],
      "metadata": {
        "id": "LY8TYEjpMdva"
      }
    },
    {
      "cell_type": "code",
      "source": [
        "# Importar las librerias con las que vamos a trabajar en este práctico\n",
        "# Importar libreria para guardar archivos\n",
        "import os\n",
        "\n",
        "# Importar libreria para guardar trabajar con tablas\n",
        "import pandas as pd\n",
        "import numpy as np\n",
        "\n",
        "# Importar las librerias de RDKit\n",
        "from rdkit import Chem, DataStructs\n",
        "from rdkit.Chem import Draw\n",
        "from rdkit.Chem import rdMolDescriptors\n",
        "from rdkit.Chem import Descriptors\n",
        "from rdkit.Chem import PandasTools\n",
        "from rdkit.Chem.Fingerprints import FingerprintMols\n",
        "\n",
        "# Importar las librerias para graficar\n",
        "import matplotlib.pyplot as plt\n",
        "import matplotlib.gridspec as gridspec\n",
        "import seaborn as sns\n",
        "\n",
        "# Importar las librerias para graficar\n",
        "import matplotlib.pyplot as plt\n",
        "import matplotlib.cm as cm\n",
        "import matplotlib.gridspec as gridspec\n",
        "import seaborn as sns\n",
        "\n",
        "# Importar las funciones de 'scipy'\n",
        "from scipy.cluster.hierarchy import dendrogram, linkage, is_valid_linkage, cut_tree\n",
        "\n",
        "# Importar las funciones de 'sklearn'\n",
        "from sklearn.cluster import KMeans\n",
        "from sklearn.metrics import silhouette_samples, silhouette_score\n",
        "from sklearn.preprocessing import StandardScaler\n",
        "from sklearn.decomposition import PCA\n",
        "from sklearn.cluster import AgglomerativeClustering\n",
        "from sklearn import metrics\n",
        "\n",
        "# Importar el módulo sys\n",
        "import sys\n",
        "np.set_printoptions(threshold=sys.maxsize)\n",
        "\n",
        "# Importar libreria de ChEMBL\n",
        "from chembl_webresource_client.new_client import new_client\n",
        "\n",
        "# Importar libreria de PubChem\n",
        "import pubchempy as pcp\n",
        "\n",
        "# Importar libreria de ADME\n",
        "from adme_pred import ADME\n",
        "\n",
        "# Importar libreria para ver una barra con el progreso de cada comando\n",
        "from tqdm.auto import tqdm\n",
        "tqdm.pandas()\n",
        "\n",
        "# Importar las funciones de 'scipy'\n",
        "from scipy.cluster.hierarchy import dendrogram, linkage, is_valid_linkage, cut_tree\n",
        "\n",
        "# Importar el módulo de advertencias\n",
        "import warnings\n",
        "\n",
        "import time"
      ],
      "metadata": {
        "id": "4FGztPTmCZcH"
      },
      "execution_count": null,
      "outputs": []
    },
    {
      "cell_type": "markdown",
      "source": [
        "# Introducción\n",
        "\n",
        "En el campo de la quimioinformática, el estudio de las propiedades TPSA (Área de Superficie Polar Total) y LogP (Logaritmo del Coeficiente de Partición Octanol-Agua) ha demostrado ser crucial en la evaluación y predicción de las características y comportamientos de los compuestos químicos.\n",
        "\n",
        "El **TPSA** es una medida que estima la superficie total de un compuesto que es polar y, por lo tanto, capaz de formar enlaces de hidrógeno con su entorno.\n",
        "\n",
        "Esta propiedad es importante ya que influye en:\n",
        "* la solubilidad de los compuestos\n",
        "* la biodisponibilidad de los compuestos\n",
        "* la capacidad del compuesto para interactuar con proteínas y otros receptores biológicos\n",
        "\n",
        "Un **mayor TPSA** puede indicar una **mayor probabilidad de interacciones** con la superficie de una célula, lo que puede afectar la absorción y distribución de un compuesto en el organismo.\n",
        "\n",
        "El **LogP** es un parámetro que describe la hidrofobicidad de una molécula, es decir, su afinidad por las sustancias lipídicas o grasas en comparación con el agua.\n",
        "\n",
        "Este coeficiente de partición octanol-agua se utiliza ampliamente para evaluar la capacidad de una molécula para atravesar las membranas biológicas, incluida la barrera hematoencefálica.\n",
        "\n",
        "La **barrera hematoencefálica (BBB)** es una estructura altamente selectiva que protege el cerebro al limitar el paso de sustancias y compuestos tóxicos desde el torrente sanguíneo hacia el cerebro. La capacidad de un compuesto para atravesar la BBB es crucial en el diseño de fármacos para el tratamiento de enfermedades del sistema nervioso central, ya que un bajo índice de permeabilidad puede impedir que el compuesto alcance su objetivo terapéutico en el cerebro.\n",
        "\n",
        "La **absorción intestinal humana (HIA)** es una propiedad farmacocinética importante a considerar en el desarrollo de fármacos orales. La HIA se refiere a la capacidad de un compuesto para pasar a través de la barrera intestinal y entrar en la circulación sistémica. Una buena absorción intestinal es esencial para que un fármaco sea efectivo en el tratamiento de enfermedades sistémicas.\n",
        "\n",
        "El **objetivo general** de este trabajo es identificar correlaciones y tendencias que permitan comprender mejor la relación entre estas propiedades moleculares y la farmacocinética de los compuestos.\n",
        "\n",
        "Para lograr este objetivo se explorarán cómo las propiedades moleculares, el TPSA y el LogP, se relacionan con la HIA y la permeación de la BBB. Se analizará cómo las variaciones en el TPSA y el LogP pueden influir en la capacidad de un compuesto para ser absorbido a nivel intestinal y atravesar la barrera hematoencefálica.\n",
        "\n",
        "Tendrán acceso a tres conjuntos de datos:\n",
        "* **Set de Datos 1:** Lista de moléculas con una buena absorción intestinal humana (HIA) conocida,\n",
        "* **Set de Datos 2:** Lista de moléculas con permeación conocida a través de la barrera hematoencefálica (BBB),\n",
        "* **Set de Datos 3:** Lista de moléculas aprobadas por la Administración de Alimentos y Medicamentos (FDA) con evidencia experimental de HIA y BBB.\n",
        "\n",
        "Los primeros dos conjuntos de datos se utilizarán para definir el rango de parámetros en el cual los compuestos exhiben una buena HIA y permeación de la BBB. Al analizar las propiedades TPSA y LogP de las moléculas en los conjuntos de datos de HIA conocida y BBB conocida, podrás establecer umbrales y rangos específicos que se correlacionen con estas características deseadas. Esto permitirá identificar las propiedades moleculares óptimas que favorecen una buena HIA y permeación de la BBB.\n",
        "\n",
        "Una vez que se hayan definido estos rangos de parámetros, el tercer conjunto de datos, se utilizará para validar la estrategia. Al aplicar los umbrales y rangos previamente definidos a este conjunto de datos, podrás evaluar si las propiedades TPSA y LogP de estas moléculas corresponden con la evidencia experimental. Si los resultados concuerdan con las expectativas, esto proporcionará evidencia de la eficacia de la estrategia en la identificación de compuestos con una buena HIA y permeación de la BBB."
      ],
      "metadata": {
        "id": "SQz8QlLHohzw"
      }
    },
    {
      "cell_type": "markdown",
      "source": [
        "\n",
        "\n",
        "# Consignas:\n",
        "1. Abrir las tablas:\n",
        "  * Datos Human Intestinal Absorption (HIA): https://drive.google.com/file/d/12JEfIljakj8OHiQLlrdCUF1M83wyVpRP/view?usp=drive_link\n",
        "  * Datos Blood–Brain Barrier permeation (BBB): https://drive.google.com/file/d/1zUU-xR2895UbFISX8TD9F3kbRMuCPU1S/view?usp=drive_link\n",
        "\n",
        "Para cada set de datos:\n",
        "2. Calcular TPSA y LogP\n",
        "3. Hacer un gráfico en dos dimensiones, donde el eje x es TPSA y el eje y es LogP, diferenciando los datos positivos de los negativos en distintos colores\n",
        "4. Armar un nuevo set de datos que sólo tenga los valores positivos de HIA y BBB. Agregarle una columnas que indique de que tabla viene el dato\n",
        "5. Hacer un nuevo gráfico en dos dimensiones, donde el eje x es TPSA y el eje y es LogP para los datos de la tabla nueva\n",
        "6. Determinar en que rango de TPSA y LogP una molécula tiene mayor probabilidad de ser HIA y en cuales BBB\n",
        "7. Abrir la tabla de validación:\n",
        "  * Datos de validación FDA: https://drive.google.com/file/d/1ppYTbDPCj7SkugEr8MojH-m_nIo7Im0S/view?usp=drive_link\n",
        "8. Calcular TPSA y LogP\n",
        "9. Usar los rangos determinados en el punto 6 para predecir en cada molécula de la tabla de FDA validation si va a tener HIA, BBB o ninguna.\n",
        "10. Comparar los resultados de la predicción con el dato teórico que trae la tabla.\n",
        "11. Hacer un gráfico en dos dimensiones, donde el eje x es TPSA y el eje y es LogP de las moléculas de FDA. Diferenciar con tres colores las tres condiciones posibles: HIA, BBB o ninguna\n",
        "12. Clusterizar usando PCA con TPSA y LogP\n",
        "13. Comparar el clusterizado con lo observado en punto 6\n",
        "14. Evaluar el modelo\n",
        "15. Armar un texto como cierre del trabajo que contenga:\n",
        "  *  Introducción\n",
        "  *  Hipótesis\n",
        "  *  Objetivos\n",
        "  *  Metodología\n",
        "  *  Resultados\n",
        "  *  Conclusión\n",
        "\n",
        "A trabajar!"
      ],
      "metadata": {
        "id": "eyVs2sduClg6"
      }
    },
    {
      "cell_type": "code",
      "source": [
        "# Cargar el contenido de drive\n",
        "from google.colab import drive\n",
        "drive.mount('/content/drive')\n",
        "\n",
        "# Indicar la carpeta de trabajo\n",
        "path = '/content/drive/MyDrive/Quimioinf'\n",
        "os.chdir(path)"
      ],
      "metadata": {
        "id": "_OPbU0u7MPFD",
        "colab": {
          "base_uri": "https://localhost:8080/"
        },
        "outputId": "15b07906-3ce1-4afd-a9bf-85618a3a8245"
      },
      "execution_count": null,
      "outputs": [
        {
          "output_type": "stream",
          "name": "stdout",
          "text": [
            "Drive already mounted at /content/drive; to attempt to forcibly remount, call drive.mount(\"/content/drive\", force_remount=True).\n"
          ]
        }
      ]
    },
    {
      "cell_type": "code",
      "source": [
        "#Generar una variable con el nombre de la tabla que contiene la lista de moléculas\n",
        "HIA = pd.read_csv('HIA.csv')"
      ],
      "metadata": {
        "id": "P41RrIZRPViv"
      },
      "execution_count": null,
      "outputs": []
    },
    {
      "cell_type": "code",
      "execution_count": null,
      "metadata": {
        "id": "k9wSarNliq-5"
      },
      "outputs": [],
      "source": [
        "#Generar una variable con el nombre de la tabla que contiene la lista de moléculas\n",
        "moleculas_HIA = pd.read_csv('HIA.csv')\n",
        "\n",
        "#Agregar el formato molécula de RDKit para cada smiles\n",
        "PandasTools.AddMoleculeColumnToFrame(moleculas_HIA, smilesCol='SMILES')\n",
        "\n",
        "#Mostrar la tabla\n",
        "moleculas_HIA"
      ]
    },
    {
      "cell_type": "code",
      "source": [
        "# Cargar el contenido de drive\n",
        "from google.colab import drive\n",
        "drive.mount('/content/drive')\n",
        "\n",
        "# Indicar la carpeta de trabajo\n",
        "path = '/content/drive/MyDrive/Quimioinf'\n",
        "os.chdir(path)\n",
        "\n",
        "BBB = pd.read_csv('BBB.csv')"
      ],
      "metadata": {
        "id": "sfvXlQVidcek"
      },
      "execution_count": null,
      "outputs": []
    },
    {
      "cell_type": "code",
      "source": [
        "#Generar una variable con el nombre de la tabla que contiene la lista de moléculas\n",
        "moleculas_BBB = pd.read_csv('BBB.csv')\n",
        "\n",
        "#Agregar el formato molécula de RDKit para cada smiles\n",
        "PandasTools.AddMoleculeColumnToFrame(moleculas_BBB, smilesCol='SMILES')\n",
        "\n",
        "#Mostrar la tabla\n",
        "moleculas_BBB"
      ],
      "metadata": {
        "id": "DrdHVJoUdadJ"
      },
      "execution_count": null,
      "outputs": []
    },
    {
      "cell_type": "markdown",
      "source": [
        "2. Calcular TPSA y LogP\n"
      ],
      "metadata": {
        "id": "Yyk0F3QbtdoE"
      }
    },
    {
      "cell_type": "code",
      "execution_count": null,
      "metadata": {
        "id": "ed35c041"
      },
      "outputs": [],
      "source": [
        "ef descriptors(df):\n",
        "    # Desactivar las advertencias de asignación encadenada en pandas\n",
        "    pd.options.mode.chained_assignment = None\n",
        "\n",
        "    # Crear listas vacías para almacenar los descriptores\n",
        "    LogP_list = []\n",
        "    TPSA_list=[]\n",
        "\n",
        "    # Calcular los descriptores para cada molécula en la columna 'ROMol'\n",
        "    for element in df['ROMol']:\n",
        "        try:\n",
        "            # Calcular el logP\n",
        "            LogP = Descriptors.MolLogP(element)\n",
        "            LogP_list.append(LogP)\n",
        "        except:\n",
        "            LogP_list.append('N/A')  # Si ocurre una excepción, agregar 'N/A' a la lista\n",
        "            pass\n",
        "\n",
        "        try:\n",
        "            # Calcular el TPSA\n",
        "            TPSA = Chem.QED.properties(element).PSA\n",
        "            TPSA_list.append(TPSA)\n",
        "        except:\n",
        "            TPSA_list.append('N/A')  # Si ocurre una excepción, agregar 'N/A' a la lista\n",
        "            pass\n",
        "    # Agregar las listas de descriptores al DataFrame\n",
        "    df['logP'] = LogP_list\n",
        "    df['TPSA'] = TPSA_list\n",
        "    return df"
      ]
    },
    {
      "cell_type": "code",
      "source": [
        "# Llamar a la función decriptors pasando el DataFrame moleculas_HIA_modif como argumento\n",
        "moleculas_HIA_modif = descriptors(moleculas_HIA)\n",
        "moleculas_HIA_modif"
      ],
      "metadata": {
        "id": "-E2JyOKzW9fF"
      },
      "execution_count": null,
      "outputs": []
    },
    {
      "cell_type": "code",
      "source": [
        "moleculas_BBB_modif = descriptors(moleculas_BBB)\n",
        "moleculas_BBB_modif"
      ],
      "metadata": {
        "id": "RyfKi35uXuT8"
      },
      "execution_count": null,
      "outputs": []
    },
    {
      "cell_type": "markdown",
      "source": [
        "3. Hacer un gráfico en dos dimensiones, donde el eje x es TPSA y el eje y es LogP, diferenciando los datos positivos de los negativos en distintos colores\n"
      ],
      "metadata": {
        "id": "Bp8U9Uh-tYgo"
      }
    },
    {
      "cell_type": "code",
      "source": [
        "import seaborn as sns\n",
        "sns.scatterplot(x='TPSA', y='logP', hue=\"HIA\", data= moleculas_HIA_modif, palette=[\"r\", \"g\"])\n",
        "plt.xlabel('TPSA')\n",
        "plt.ylabel('LogP')\n",
        "plt.title('TPSA vs LogP')\n",
        "plt.show()"
      ],
      "metadata": {
        "id": "-Vr8ZU4qaCuk"
      },
      "execution_count": null,
      "outputs": []
    },
    {
      "cell_type": "code",
      "source": [
        "moleculas_HIA_modif\n"
      ],
      "metadata": {
        "id": "kptNTarfjrbk"
      },
      "execution_count": null,
      "outputs": []
    },
    {
      "cell_type": "code",
      "source": [
        "moleculas_HIA_modif[\"Tipo de dato\"]=\"HIA\"\n",
        "moleculas_BBB_modif[\"Tipo de dato\"]=\"BBB\""
      ],
      "metadata": {
        "id": "sk-df8M-i-F3"
      },
      "execution_count": null,
      "outputs": []
    },
    {
      "cell_type": "code",
      "source": [
        "moleculas_BBB_modif_limpia=moleculas_BBB_modif\n",
        "moleculas_HIA_modif_limpia=moleculas_HIA_modif"
      ],
      "metadata": {
        "id": "t7rZykllnXs_"
      },
      "execution_count": null,
      "outputs": []
    },
    {
      "cell_type": "code",
      "source": [
        "moleculas_BBB_modif_limpia[\"Cumple\"]=0\n",
        "for i in range(len(moleculas_BBB_modif_limpia)):\n",
        "  if moleculas_BBB_modif_limpia['BBB'][i]=='+':\n",
        "     moleculas_BBB_modif_limpia[\"Cumple\"][i]=True\n",
        "  else:moleculas_BBB_modif_limpia[\"Cumple\"][i]=False\n",
        "BBB_limpia=(moleculas_BBB_modif_limpia[(moleculas_BBB_modif_limpia.Cumple==True)])\n",
        "BBB_limpia=moleculas_BBB_modif_limpia.reset_index()"
      ],
      "metadata": {
        "id": "lLXAjrZJjmQP"
      },
      "execution_count": null,
      "outputs": []
    },
    {
      "cell_type": "code",
      "source": [
        "BBB_limpia = (BBB_limpia[(BBB_limpia.Cumple==True)])\n",
        "BBB_limpia = BBB_limpia.reset_index()\n"
      ],
      "metadata": {
        "id": "azetIsIiox9h"
      },
      "execution_count": null,
      "outputs": []
    },
    {
      "cell_type": "code",
      "source": [
        "BBB_limpia"
      ],
      "metadata": {
        "id": "lDOpGK9mpo9C"
      },
      "execution_count": null,
      "outputs": []
    },
    {
      "cell_type": "code",
      "source": [
        "moleculas_HIA_modif_limpia[\"Cumple\"]=0\n",
        "for i in range(len(moleculas_HIA_modif_limpia)):\n",
        "  if moleculas_HIA_modif_limpia['HIA'][i]=='+':\n",
        "     moleculas_HIA_modif_limpia[\"Cumple\"][i]=True\n",
        "  else:moleculas_HIA_modif_limpia[\"Cumple\"][i]=False\n",
        "HIA_limpia=(moleculas_HIA_modif_limpia[(moleculas_HIA_modif_limpia.Cumple==True)])\n",
        "HIA_limpia=moleculas_HIA_modif_limpia.reset_index()"
      ],
      "metadata": {
        "id": "754vSGZvo6PX"
      },
      "execution_count": null,
      "outputs": []
    },
    {
      "cell_type": "code",
      "source": [
        "HIA_BBB=pd.concat([HIA_limpia,BBB_limpia])\n",
        "HIA_BBB"
      ],
      "metadata": {
        "id": "0nOE1Q1KgWms"
      },
      "execution_count": null,
      "outputs": []
    },
    {
      "cell_type": "markdown",
      "source": [
        "4. Hacer un nuevo gráfico en dos dimensiones, donde el eje x es TPSA y el eje y es LogP para los datos de la tabla nueva"
      ],
      "metadata": {
        "id": "KbLSmj0dtS6F"
      }
    },
    {
      "cell_type": "code",
      "source": [
        "import seaborn as sns\n",
        "sns.scatterplot(x='TPSA', y='logP', hue=\"Tipo de dato\", data= HIA_BBB, palette=[\"r\", \"g\"])\n",
        "plt.xlabel('TPSA')\n",
        "plt.ylabel('LogP')\n",
        "plt.title('TPSA vs LogP')\n",
        "plt.show()"
      ],
      "metadata": {
        "colab": {
          "base_uri": "https://localhost:8080/",
          "height": 472
        },
        "id": "enuvZysLtUEO",
        "outputId": "aad74ccd-b5e1-4d44-eb9c-c4902e3d52ef"
      },
      "execution_count": null,
      "outputs": [
        {
          "output_type": "display_data",
          "data": {
            "text/plain": [
              "<Figure size 640x480 with 1 Axes>"
            ],
            "image/png": "[encoded data removed]"
          },
          "metadata": {}
        }
      ]
    },
    {
      "cell_type": "markdown",
      "source": [
        "\n",
        "6. Determinar en que rango de TPSA y LogP una molécula tiene mayor probabilidad de ser HIA y en cuales BBB"
      ],
      "metadata": {
        "id": "1u_k-45KucvR"
      }
    },
    {
      "cell_type": "code",
      "source": [
        "#TPS<90\n",
        "#0<logP<7.5"
      ],
      "metadata": {
        "id": "mhvQaT_mukbJ"
      },
      "execution_count": null,
      "outputs": []
    },
    {
      "cell_type": "code",
      "execution_count": null,
      "metadata": {
        "id": "f48c2553"
      },
      "outputs": [],
      "source": [
        "# Agregar una nueva columna llamada 'lipinski' al DataFrame y asignarle un valor inicial de 0\n",
        "moleculas_HIA['lipinski'] = 0"
      ]
    },
    {
      "cell_type": "code",
      "execution_count": null,
      "metadata": {
        "id": "e4d2b5b5",
        "scrolled": true
      },
      "outputs": [],
      "source": [
        "# Crear un histograma de las columnas 'logP', 'TPSA' de la moleculas_HIA_modif\n",
        "moleculas_HIA_modif[['logP', 'TPSA']].hist(\n",
        "    bins=15,\n",
        "    figsize=(10, 8),\n",
        "    rwidth=0.9,\n",
        "    sharey=True\n",
        ")\n",
        "plt.rcParams['axes.axisbelow']=True\n",
        "\n",
        "# Guardar el gráfico como un archivo JPG\n",
        "plt.savefig(\"plt_histogramas.jpg\")\n",
        "\n",
        "# Mostrar el gráfico en la salida\n",
        "plt.show()\n"
      ]
    }
  ]
}